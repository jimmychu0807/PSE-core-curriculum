{
 "cells": [
  {
   "cell_type": "code",
   "execution_count": 15,
   "id": "6ff48ba9-ef4f-4986-9f38-89da1d6cf851",
   "metadata": {
    "scrolled": true
   },
   "outputs": [
    {
     "name": "stderr",
     "output_type": "stream",
     "text": [
      "test_division (__main__.TestModularCalculator) ... ok\n",
      "test_minus (__main__.TestModularCalculator) ... ok\n",
      "test_multiply (__main__.TestModularCalculator) ... ok\n",
      "test_plus (__main__.TestModularCalculator) ... ok\n",
      "\n",
      "----------------------------------------------------------------------\n",
      "Ran 4 tests in 0.005s\n",
      "\n",
      "OK\n"
     ]
    },
    {
     "data": {
      "text/plain": [
       "<unittest.main.TestProgram at 0x1065a0b80>"
      ]
     },
     "execution_count": 15,
     "metadata": {},
     "output_type": "execute_result"
    }
   ],
   "source": [
    "import unittest\n",
    "\n",
    "def modularCalculator(op, num1, num2, mod):\n",
    "    match op:\n",
    "        case '+': return (num1 + num2) % mod\n",
    "        case '-': return (num1 - num2) % mod\n",
    "        case '*': return (num1 * num2) % mod\n",
    "        case _: raise Exception(\"Unknown operator\")\n",
    "\n",
    "class TestModularCalculator(unittest.TestCase):\n",
    "    def test_plus(self):\n",
    "        self.assertEqual(modularCalculator('+', 10, 15, 12), 1)\n",
    "\n",
    "    def test_minus(self):\n",
    "        self.assertEqual(modularCalculator('-', 10, 15, 12), 7)\n",
    "\n",
    "    def test_multiply(self):\n",
    "        self.assertEqual(modularCalculator('*', 10, 15, 12), 6)\n",
    "\n",
    "    def test_division(self):\n",
    "        # Should raise exception\n",
    "        with self.assertRaises(Exception):\n",
    "            modularCalculator('/', 10, 15, 12)\n",
    "        \n",
    "# Execution\n",
    "unittest.main(argv=[''], verbosity=2, exit=False)"
   ]
  }
 ],
 "metadata": {
  "kernelspec": {
   "display_name": "Python 3 (ipykernel)",
   "language": "python",
   "name": "python3"
  },
  "language_info": {
   "codemirror_mode": {
    "name": "ipython",
    "version": 3
   },
   "file_extension": ".py",
   "mimetype": "text/x-python",
   "name": "python",
   "nbconvert_exporter": "python",
   "pygments_lexer": "ipython3",
   "version": "3.10.12"
  }
 },
 "nbformat": 4,
 "nbformat_minor": 5
}
